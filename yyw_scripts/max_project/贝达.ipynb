{
 "cells": [
  {
   "cell_type": "code",
   "execution_count": null,
   "metadata": {},
   "outputs": [],
   "source": [
    "outdir = '202011'\n",
    "product_name = '贝达'"
   ]
  },
  {
   "cell_type": "code",
   "execution_count": 1,
   "metadata": {
    "collapsed": true,
    "jupyter": {
     "outputs_hidden": true
    }
   },
   "outputs": [
    {
     "name": "stdout",
     "output_type": "stream",
     "text": [
      "       ID         PHA Province City\n",
      "0  230461  PHA0000591      安徽省  蚌埠市\n",
      "1  230011  PHA0005209      安徽省  合肥市\n",
      "2  230021  PHA0005207      安徽省  合肥市\n",
      "3  230031  PHA0005208      安徽省  合肥市\n"
     ]
    }
   ],
   "source": [
    "# 产品匹配表\n",
    "\n",
    "import pandas as pd\n",
    "df = pd.read_excel(u\"/home/ywyuan/max_project/prod_mapping.xlsx\", dtype=\"object\")\n",
    "print(df.head(4))"
   ]
  },
  {
   "cell_type": "code",
   "execution_count": 2,
   "metadata": {
    "collapsed": true,
    "jupyter": {
     "outputs_hidden": true
    }
   },
   "outputs": [
    {
     "ename": "NameError",
     "evalue": "name 'spark' is not defined",
     "output_type": "error",
     "traceback": [
      "\u001b[0;31m---------------------------------------------------------------------------\u001b[0m",
      "\u001b[0;31mNameError\u001b[0m                                 Traceback (most recent call last)",
      "\u001b[0;32m<ipython-input-2-19aa86c76968>\u001b[0m in \u001b[0;36m<module>\u001b[0;34m\u001b[0m\n\u001b[1;32m      1\u001b[0m \u001b[0mdf\u001b[0m\u001b[0;34m[\u001b[0m\u001b[0mdf\u001b[0m\u001b[0;34m.\u001b[0m\u001b[0mcolumns\u001b[0m\u001b[0;34m]\u001b[0m \u001b[0;34m=\u001b[0m \u001b[0mdf\u001b[0m\u001b[0;34m[\u001b[0m\u001b[0mdf\u001b[0m\u001b[0;34m.\u001b[0m\u001b[0mcolumns\u001b[0m\u001b[0;34m]\u001b[0m\u001b[0;34m.\u001b[0m\u001b[0mastype\u001b[0m\u001b[0;34m(\u001b[0m\u001b[0;34m\"str\"\u001b[0m\u001b[0;34m)\u001b[0m\u001b[0;34m\u001b[0m\u001b[0;34m\u001b[0m\u001b[0m\n\u001b[1;32m      2\u001b[0m \u001b[0;34m\u001b[0m\u001b[0m\n\u001b[0;32m----> 3\u001b[0;31m \u001b[0mdf_spark\u001b[0m \u001b[0;34m=\u001b[0m \u001b[0mspark\u001b[0m\u001b[0;34m.\u001b[0m\u001b[0mcreateDataFrame\u001b[0m\u001b[0;34m(\u001b[0m\u001b[0mdf\u001b[0m\u001b[0;34m)\u001b[0m\u001b[0;34m\u001b[0m\u001b[0;34m\u001b[0m\u001b[0m\n\u001b[0m\u001b[1;32m      4\u001b[0m \u001b[0;34m\u001b[0m\u001b[0m\n\u001b[1;32m      5\u001b[0m \u001b[0;32mfor\u001b[0m \u001b[0meach\u001b[0m \u001b[0;32min\u001b[0m \u001b[0mdf_spark\u001b[0m\u001b[0;34m.\u001b[0m\u001b[0mcolumns\u001b[0m\u001b[0;34m:\u001b[0m\u001b[0;34m\u001b[0m\u001b[0;34m\u001b[0m\u001b[0m\n",
      "\u001b[0;31mNameError\u001b[0m: name 'spark' is not defined"
     ]
    }
   ],
   "source": [
    "df[df.columns] = df[df.columns].astype(\"str\")\n",
    "  \n",
    "df_spark = spark.createDataFrame(df)\n",
    "\n",
    "for each in df_spark.columns:\n",
    "  df_spark = df_spark.withColumn(each, func.when(func.col(each) == 'nan', func.lit(None)).otherwise(func.col(each)))\n",
    "df_spark.show()"
   ]
  },
  {
   "cell_type": "code",
   "execution_count": null,
   "metadata": {},
   "outputs": [],
   "source": [
    "df_spark = df_spark.distinct().repartition(1)\n",
    "df_spark.write.format(\"parquet\") \\\n",
    "    .mode(\"overwrite\").save(\"s3a://ph-max-auto/v0.0.1-2020-06-08/\" + product_name + \"/\" + outdir + \"/prod_mapping\")\n",
    "#df_spark.write.format(\"parquet\") \\\n",
    "#    .mode(\"overwrite\").save(\"s3a://ph-max-auto/v0.0.1-2020-06-08/\" + product_name + \"/province_city_mapping\")"
   ]
  },
  {
   "cell_type": "code",
   "execution_count": null,
   "metadata": {},
   "outputs": [],
   "source": [
    "#  =========  max_result_path_list 调整  =============\n",
    "\n",
    "max_result_path_list = spark.read.csv(\"s3a://ph-max-auto/v0.0.1-2020-06-08/\" + product_name + \"/max_result_path_list.csv\", header=True)\n",
    "max_result_path_list.collect()"
   ]
  },
  {
   "cell_type": "code",
   "execution_count": null,
   "metadata": {},
   "outputs": [],
   "source": [
    "list_dict = [\n",
    "  {\"project\":\"贝达\",\"path\":\"s3a://ph-max-auto/v0.0.1-2020-06-08/贝达/202006/MAX_result/MAX_result_201701_202006_city_level\", \n",
    "  \"time_left\":\"201701\", \"time_right\":\"201912\"},\n",
    "  {\"project\":\"贝达\",\"path\":\"s3a://ph-max-auto/v0.0.1-2020-06-08/贝达/202011/MAX_result/MAX_result_202001_202011_city_level\", \n",
    "  \"time_left\":\"202001\", \"time_right\":\"202011\"}\n",
    "]"
   ]
  },
  {
   "cell_type": "code",
   "execution_count": null,
   "metadata": {},
   "outputs": [],
   "source": [
    "max_result_path_list_new = spark.createDataFrame(list_dict)\n",
    "max_result_path_list_new = max_result_path_list_new.select(\"project\", \"path\", \"time_left\", \"time_right\")\n",
    "max_result_path_list_new.show()\n",
    "max_result_path_list_new.toPandas()[\"path\"].values"
   ]
  },
  {
   "cell_type": "code",
   "execution_count": null,
   "metadata": {},
   "outputs": [],
   "source": [
    "max_result_path_list_new = max_result_path_list_new.repartition(1)\n",
    "max_result_path_list_new.write.format(\"csv\").option(\"header\", \"true\") \\\n",
    "    .mode(\"overwrite\").save(\"s3a://ph-max-auto/v0.0.1-2020-06-08/\" + product_name + \"/max_result_path_list.csv\")"
   ]
  },
  {
   "cell_type": "code",
   "execution_count": null,
   "metadata": {},
   "outputs": [],
   "source": []
  },
  {
   "cell_type": "code",
   "execution_count": null,
   "metadata": {},
   "outputs": [],
   "source": [
    "# load"
   ]
  }
 ],
 "metadata": {
  "kernelspec": {
   "display_name": "Python 3",
   "language": "python",
   "name": "python3"
  },
  "language_info": {
   "codemirror_mode": {
    "name": "ipython",
    "version": 3
   },
   "file_extension": ".py",
   "mimetype": "text/x-python",
   "name": "python",
   "nbconvert_exporter": "python",
   "pygments_lexer": "ipython3",
   "version": "3.8.5"
  }
 },
 "nbformat": 4,
 "nbformat_minor": 4
}
